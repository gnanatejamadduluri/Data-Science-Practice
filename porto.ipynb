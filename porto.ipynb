{
 "cells": [
  {
   "cell_type": "code",
   "execution_count": 16,
   "metadata": {},
   "outputs": [
    {
     "data": {
      "text/plain": [
       "0        0\n",
       "1        0\n",
       "2        0\n",
       "3        0\n",
       "4        0\n",
       "        ..\n",
       "51770    0\n",
       "51771    0\n",
       "51772    0\n",
       "51773    0\n",
       "51774    0\n",
       "Name: target, Length: 51775, dtype: int64"
      ]
     },
     "execution_count": 16,
     "metadata": {},
     "output_type": "execute_result"
    }
   ],
   "source": [
    "import pandas as pd\n",
    "porto1_df=pd.read_csv('porto1.csv')\n",
    "\n",
    "import numpy as np\n",
    "porto1_df.replace(-1,np.NaN,inplace=True)\n",
    "\n",
    "porto1_df.isnull().sum()\n",
    "porto1_df.columns\n",
    "porto1_df.shape\n",
    "\n",
    "y=porto1_df['target']\n",
    "porto1_df.drop(columns='target',inplace=True)\n",
    "y"
   ]
  },
  {
   "cell_type": "code",
   "execution_count": 33,
   "metadata": {},
   "outputs": [
    {
     "data": {
      "text/plain": [
       "id               0\n",
       "ps_ind_01        0\n",
       "ps_ind_02_cat    0\n",
       "ps_ind_03        0\n",
       "ps_ind_04_cat    0\n",
       "ps_ind_05_cat    0\n",
       "ps_ind_06_bin    0\n",
       "ps_ind_07_bin    0\n",
       "ps_ind_08_bin    0\n",
       "ps_ind_09_bin    0\n",
       "ps_ind_10_bin    0\n",
       "ps_ind_11_bin    0\n",
       "ps_ind_12_bin    0\n",
       "ps_ind_13_bin    0\n",
       "ps_ind_14        0\n",
       "ps_ind_15        0\n",
       "ps_ind_16_bin    0\n",
       "ps_ind_17_bin    0\n",
       "dtype: int64"
      ]
     },
     "execution_count": 33,
     "metadata": {},
     "output_type": "execute_result"
    }
   ],
   "source": [
    "miss_val_df= pd.DataFrame({'column_name':porto1_df.columns,\n",
    "                          'missing_value_count':porto1_df.isnull().sum(),\n",
    "                          'missing_percentage':porto1_df.isnull().sum()/porto1_df.shape[0]*100})\n",
    "miss_val_df=miss_val_df.sort_values(by='missing_percentage',ascending=False)\n",
    "drop_columns=list(miss_val_df[miss_val_df['missing_percentage']>50]['column_name'])\n",
    "porto1_df.drop(columns=drop_columns,inplace=True)\n",
    "porto1_df.shape\n",
    "\n",
    "porto1_int_float = [i for i in porto1_df.columns if porto1_df[i].dtype == 'int64' or porto1_df[i].dtype == 'float64']\n",
    "len(porto1_int_float)\n",
    "drop_columns\n",
    "\n",
    "porto1_object = [i for i in porto1_df.columns if porto1_df[i].dtype == object]\n",
    "porto1_object\n",
    "len(porto1_object)\n",
    "porto1_df.shape\n",
    "length = len(porto1_object) + len(porto1_int_float)\n",
    "length\n",
    "\n",
    "for i in porto1_int_float:\n",
    "    porto1_df[i].fillna(porto1_df[i].mean(),inplace=True)\n",
    "for i in porto1_int_float:\n",
    "    porto1_df[i].fillna(porto1_df[i].mode()[0],inplace=True)\n",
    "\n",
    "len(porto1_df.columns)\n",
    "\n",
    "porto1_df.isnull().sum()"
   ]
  },
  {
   "cell_type": "code",
   "execution_count": 35,
   "metadata": {},
   "outputs": [
    {
     "data": {
      "text/plain": [
       "(51775, 18)"
      ]
     },
     "execution_count": 35,
     "metadata": {},
     "output_type": "execute_result"
    }
   ],
   "source": [
    "porto1_df.shape"
   ]
  },
  {
   "cell_type": "code",
   "execution_count": 42,
   "metadata": {},
   "outputs": [
    {
     "name": "stderr",
     "output_type": "stream",
     "text": [
      "C:\\Users\\my laptop\\Anaconda3\\lib\\site-packages\\ipykernel_launcher.py:9: SettingWithCopyWarning: \n",
      "A value is trying to be set on a copy of a slice from a DataFrame.\n",
      "Try using .loc[row_indexer,col_indexer] = value instead\n",
      "\n",
      "See the caveats in the documentation: http://pandas.pydata.org/pandas-docs/stable/user_guide/indexing.html#returning-a-view-versus-a-copy\n",
      "  if __name__ == '__main__':\n",
      "C:\\Users\\my laptop\\Anaconda3\\lib\\site-packages\\ipykernel_launcher.py:10: SettingWithCopyWarning: \n",
      "A value is trying to be set on a copy of a slice from a DataFrame.\n",
      "Try using .loc[row_indexer,col_indexer] = value instead\n",
      "\n",
      "See the caveats in the documentation: http://pandas.pydata.org/pandas-docs/stable/user_guide/indexing.html#returning-a-view-versus-a-copy\n",
      "  # Remove the CWD from sys.path while we load stuff.\n"
     ]
    },
    {
     "data": {
      "text/plain": [
       "(41420, 18)"
      ]
     },
     "execution_count": 42,
     "metadata": {},
     "output_type": "execute_result"
    }
   ],
   "source": [
    "from sklearn.model_selection import train_test_split\n",
    "\n",
    "X_train,X_test,Y_train,Y_test=train_test_split(porto1_df,y,test_size=0.2,random_state=26)\n",
    "for col in X_train.columns:\n",
    "        if X_train[col].dtype==object:\n",
    "            X_train[col]=X_train[col].fillna(X_train[col].mode()[0]).astype(object)\n",
    "            X_test[col]=X_test[col].fillna(X_train[col].mode()[0]).astype(object)\n",
    "        else:\n",
    "            X_train[col]=X_train[col].fillna(X_train[col].mean())\n",
    "            X_test[col]=X_test[col].fillna(X_train[col].mean())\n",
    "\n",
    "X_train\n",
    "Y_train\n",
    "\n",
    "X_test\n",
    "Y_test\n",
    "\n",
    "X_train.shape"
   ]
  },
  {
   "cell_type": "code",
   "execution_count": 49,
   "metadata": {},
   "outputs": [
    {
     "data": {
      "text/plain": [
       "array([[9968,    0],\n",
       "       [ 387,    0]], dtype=int64)"
      ]
     },
     "execution_count": 49,
     "metadata": {},
     "output_type": "execute_result"
    }
   ],
   "source": [
    "from sklearn.linear_model import LogisticRegression\n",
    "\n",
    "logreg = LogisticRegression()\n",
    "\n",
    "logreg.fit(X_train,Y_train)\n",
    "y_pred = logreg.predict(X_test)\n",
    "\n",
    "comp_df = pd.DataFrame({'Actual_values': Y_test,'Predicted':y_pred})\n",
    "comp_df\n",
    "\n",
    "y_pred_proba = logreg.predict_proba(X_test)[::,1]\n",
    "y_pred_proba\n",
    "\n",
    "from sklearn.metrics import confusion_matrix,precision_score,recall_score,f1_score,roc_auc_score,roc_curve\n",
    "confusion_matrix(Y_test,y_pred)\n"
   ]
  },
  {
   "cell_type": "code",
   "execution_count": 51,
   "metadata": {},
   "outputs": [
    {
     "name": "stdout",
     "output_type": "stream",
     "text": [
      "Requirement already satisfied: imblearn in c:\\users\\my laptop\\anaconda3\\lib\\site-packages (0.0)\n",
      "Requirement already satisfied: imbalanced-learn in c:\\users\\my laptop\\anaconda3\\lib\\site-packages (from imblearn) (0.6.1)\n",
      "Requirement already satisfied: scikit-learn>=0.22 in c:\\users\\my laptop\\anaconda3\\lib\\site-packages (from imbalanced-learn->imblearn) (0.22.1)\n",
      "Requirement already satisfied: joblib>=0.11 in c:\\users\\my laptop\\anaconda3\\lib\\site-packages (from imbalanced-learn->imblearn) (0.13.2)\n",
      "Requirement already satisfied: scipy>=0.17 in c:\\users\\my laptop\\anaconda3\\lib\\site-packages (from imbalanced-learn->imblearn) (1.3.1)\n",
      "Requirement already satisfied: numpy>=1.11 in c:\\users\\my laptop\\anaconda3\\lib\\site-packages (from imbalanced-learn->imblearn) (1.16.5)\n"
     ]
    }
   ],
   "source": [
    "!pip install imblearn"
   ]
  },
  {
   "cell_type": "code",
   "execution_count": 53,
   "metadata": {},
   "outputs": [],
   "source": [
    "import imblearn\n",
    "from imblearn.over_sampling import SMOTE \n",
    "\n",
    "smote=SMOTE(sampling_strategy=0.40)\n",
    "Xsmote,Ysmote=smote.fit_resample(X_train,Y_train)\n"
   ]
  },
  {
   "cell_type": "code",
   "execution_count": 54,
   "metadata": {},
   "outputs": [
    {
     "data": {
      "text/plain": [
       "0    0.714293\n",
       "1    0.285707\n",
       "Name: target, dtype: float64"
      ]
     },
     "execution_count": 54,
     "metadata": {},
     "output_type": "execute_result"
    }
   ],
   "source": [
    "X_train.shape, Xsmote.shape\n",
    "Ysmote.value_counts(normalize=True)"
   ]
  }
 ],
 "metadata": {
  "kernelspec": {
   "display_name": "Python 3",
   "language": "python",
   "name": "python3"
  },
  "language_info": {
   "codemirror_mode": {
    "name": "ipython",
    "version": 3
   },
   "file_extension": ".py",
   "mimetype": "text/x-python",
   "name": "python",
   "nbconvert_exporter": "python",
   "pygments_lexer": "ipython3",
   "version": "3.7.4"
  }
 },
 "nbformat": 4,
 "nbformat_minor": 2
}
