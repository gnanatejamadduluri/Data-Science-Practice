{
 "cells": [
  {
   "cell_type": "code",
   "execution_count": 5,
   "metadata": {},
   "outputs": [
    {
     "data": {
      "text/plain": [
       "0        0\n",
       "1        0\n",
       "2        0\n",
       "3        0\n",
       "4        0\n",
       "        ..\n",
       "54447    0\n",
       "54448    0\n",
       "54449    0\n",
       "54450    0\n",
       "54451    1\n",
       "Name: target, Length: 54452, dtype: int64"
      ]
     },
     "execution_count": 5,
     "metadata": {},
     "output_type": "execute_result"
    }
   ],
   "source": [
    "import pandas as pd\n",
    "seg_df=pd.read_csv('Seguro-Trimmed.csv')\n",
    "\n",
    "import warnings\n",
    "warnings.filterwarnings('ignore')\n",
    "\n",
    "import numpy as np\n",
    "seg_df.replace(-1,np.NaN,inplace=True)\n",
    "\n",
    "seg_df.isnull().sum()\n",
    "seg_df.columns\n",
    "seg_df.shape\n",
    "\n",
    "y=seg_df['target']\n",
    "seg_df.drop(columns='target',inplace=True)\n",
    "y\n",
    "\n"
   ]
  },
  {
   "cell_type": "code",
   "execution_count": 6,
   "metadata": {},
   "outputs": [
    {
     "data": {
      "text/plain": [
       "(54452, 57)"
      ]
     },
     "execution_count": 6,
     "metadata": {},
     "output_type": "execute_result"
    }
   ],
   "source": [
    "miss_val_df= pd.DataFrame({'column_name':seg_df.columns,\n",
    "                          'missing_value_count':seg_df.isnull().sum(),\n",
    "                          'missing_percentage':seg_df.isnull().sum()/seg_df.shape[0]*100})\n",
    "#miss_val_df\n",
    "\n",
    "miss_val_df=miss_val_df.sort_values(by='missing_percentage',ascending=False)\n",
    "#miss_val_df\n",
    "\n",
    "drop_columns=list(miss_val_df[miss_val_df['missing_percentage']>50]['column_name'])\n",
    "\n",
    "seg_df.drop(columns=drop_columns,inplace=True)\n",
    "\n",
    "seg_df.shape\n",
    "\n",
    "seg_int_float = [i for i in seg_df.columns if seg_df[i].dtype == 'int64' or seg_df[i].dtype == 'float64']\n",
    "len(seg_int_float)\n",
    "drop_columns\n",
    "\n",
    "seg_object = [i for i in seg_df.columns if seg_df[i].dtype == object]\n",
    "seg_object\n",
    "len(seg_object)\n",
    "seg_df.shape\n",
    "length = len(seg_object) + len(seg_int_float)\n",
    "length\n",
    "\n",
    "for i in seg_int_float:\n",
    "    seg_df[i].fillna(seg_df[i].mean(),inplace=True)\n",
    "for i in seg_int_float:\n",
    "    seg_df[i].fillna(seg_df[i].mode()[0],inplace=True)\n",
    "    \n",
    "len(seg_df.columns)\n",
    "\n",
    "\n",
    "seg_df.isnull().sum()\n",
    "seg_df.shape"
   ]
  },
  {
   "cell_type": "code",
   "execution_count": 7,
   "metadata": {},
   "outputs": [
    {
     "data": {
      "text/plain": [
       "(43561, 57)"
      ]
     },
     "execution_count": 7,
     "metadata": {},
     "output_type": "execute_result"
    }
   ],
   "source": [
    "from sklearn.model_selection import train_test_split\n",
    "\n",
    "X_train,X_test,Y_train,Y_test=train_test_split(seg_df,y,test_size=0.2,random_state=26)\n",
    "for col in X_train.columns:\n",
    "        if X_train[col].dtype==object:\n",
    "            X_train[col]=X_train[col].fillna(X_train[col].mode()[0]).astype(object)\n",
    "            X_test[col]=X_test[col].fillna(X_train[col].mode()[0]).astype(object)\n",
    "        else:\n",
    "            X_train[col]=X_train[col].fillna(X_train[col].mean())\n",
    "            X_test[col]=X_test[col].fillna(X_train[col].mean())\n",
    "            \n",
    "X_train\n",
    "Y_train\n",
    "\n",
    "X_test\n",
    "Y_test\n",
    "\n",
    "X_train.shape"
   ]
  },
  {
   "cell_type": "code",
   "execution_count": 63,
   "metadata": {},
   "outputs": [
    {
     "data": {
      "text/plain": [
       "array([[10501,     0],\n",
       "       [  390,     0]], dtype=int64)"
      ]
     },
     "execution_count": 63,
     "metadata": {},
     "output_type": "execute_result"
    }
   ],
   "source": [
    "from sklearn.linear_model import LogisticRegression\n",
    "\n",
    "logreg = LogisticRegression()\n",
    "\n",
    "logreg.fit(X_train,Y_train)\n",
    "y_pred = logreg.predict(X_test)\n",
    "\n",
    "\n",
    "comp_df = pd.DataFrame({'Actual_values': Y_test,'Predicted':y_pred})\n",
    "comp_df\n",
    "\n",
    "y_pred_proba = logreg.predict_proba(X_test)[::,1]\n",
    "y_pred_proba\n",
    "\n",
    "from sklearn.metrics import confusion_matrix,precision_score,recall_score,f1_score,roc_auc_score,roc_curve\n",
    "confusion_matrix(Y_test,y_pred)\n"
   ]
  },
  {
   "cell_type": "code",
   "execution_count": 65,
   "metadata": {},
   "outputs": [
    {
     "name": "stdout",
     "output_type": "stream",
     "text": [
      "Collecting imblearn\n",
      "  Using cached https://files.pythonhosted.org/packages/81/a7/4179e6ebfd654bd0eac0b9c06125b8b4c96a9d0a8ff9e9507eb2a26d2d7e/imblearn-0.0-py2.py3-none-any.whl\n",
      "Collecting imbalanced-learn (from imblearn)\n",
      "  Using cached https://files.pythonhosted.org/packages/eb/aa/eba717a14df36f0b6f000ebfaf24c3189cd7987130f66cc3513efead8c2a/imbalanced_learn-0.6.1-py3-none-any.whl\n",
      "Requirement already satisfied: scikit-learn>=0.22 in c:\\users\\nshre\\anaconda3\\lib\\site-packages (from imbalanced-learn->imblearn) (0.22.1)\n",
      "Requirement already satisfied: scipy>=0.17 in c:\\users\\nshre\\anaconda3\\lib\\site-packages (from imbalanced-learn->imblearn) (1.3.1)\n",
      "Requirement already satisfied: joblib>=0.11 in c:\\users\\nshre\\anaconda3\\lib\\site-packages (from imbalanced-learn->imblearn) (0.13.2)\n",
      "Requirement already satisfied: numpy>=1.11 in c:\\users\\nshre\\anaconda3\\lib\\site-packages (from imbalanced-learn->imblearn) (1.16.5)\n",
      "Installing collected packages: imbalanced-learn, imblearn\n",
      "Successfully installed imbalanced-learn-0.6.1 imblearn-0.0\n"
     ]
    }
   ],
   "source": [
    "!pip install imblearn"
   ]
  },
  {
   "cell_type": "code",
   "execution_count": 8,
   "metadata": {},
   "outputs": [],
   "source": [
    "import imblearn\n",
    "from imblearn.over_sampling import SMOTE \n",
    "\n",
    "smote=SMOTE(sampling_strategy=0.40)\n",
    "Xsmote,Ysmote=smote.fit_resample(X_train,Y_train)\n"
   ]
  },
  {
   "cell_type": "code",
   "execution_count": 10,
   "metadata": {},
   "outputs": [
    {
     "data": {
      "text/plain": [
       "0    0.714288\n",
       "1    0.285712\n",
       "Name: target, dtype: float64"
      ]
     },
     "execution_count": 10,
     "metadata": {},
     "output_type": "execute_result"
    }
   ],
   "source": [
    "X_train.shape, Xsmote.shape\n",
    "Ysmote.value_counts(normalize=True)"
   ]
  },
  {
   "cell_type": "code",
   "execution_count": null,
   "metadata": {},
   "outputs": [],
   "source": []
  }
 ],
 "metadata": {
  "kernelspec": {
   "display_name": "Python 3",
   "language": "python",
   "name": "python3"
  },
  "language_info": {
   "codemirror_mode": {
    "name": "ipython",
    "version": 3
   },
   "file_extension": ".py",
   "mimetype": "text/x-python",
   "name": "python",
   "nbconvert_exporter": "python",
   "pygments_lexer": "ipython3",
   "version": "3.7.4"
  }
 },
 "nbformat": 4,
 "nbformat_minor": 2
}
